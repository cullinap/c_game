{
 "cells": [
  {
   "cell_type": "code",
   "execution_count": 57,
   "metadata": {},
   "outputs": [],
   "source": [
    "win_w = 512\n",
    "win_h = 512\n",
    "from ctypes import c_uint8, c_uint32"
   ]
  },
  {
   "cell_type": "code",
   "execution_count": 61,
   "metadata": {},
   "outputs": [],
   "source": [
    "framebuffer = []\n",
    "\n",
    "for j in range(win_h):\n",
    "    for i in range(win_w):\n",
    "        r = 255 * j/win_h\n",
    "        g = 255 * i/win_w\n",
    "        b = 0\n",
    "        framebuffer.append([f'i: {i}',\n",
    "                            f'j: {j}',\n",
    "                            f'win_h: {win_w}',\n",
    "                            f'col major: {(i+j*win_w)}',\n",
    "                            f'r: {r}',\n",
    "                            c_uint8(int(r)),\n",
    "                            f'g {g}',\n",
    "                            c_uint8(int(g)),\n",
    "                            f'b: {0}'\n",
    "                    ])"
   ]
  },
  {
   "cell_type": "code",
   "execution_count": 63,
   "metadata": {},
   "outputs": [
    {
     "data": {
      "text/plain": [
       "['i: 0',\n",
       " 'j: 0',\n",
       " 'win_h: 512',\n",
       " 'col major: 0',\n",
       " 'r: 0.0',\n",
       " c_ubyte(0),\n",
       " 'g 0.0',\n",
       " c_ubyte(0),\n",
       " 'b: 0']"
      ]
     },
     "execution_count": 63,
     "metadata": {},
     "output_type": "execute_result"
    }
   ],
   "source": [
    "framebuffer[0]"
   ]
  },
  {
   "cell_type": "code",
   "execution_count": 69,
   "metadata": {},
   "outputs": [
    {
     "data": {
      "text/plain": [
       "c_ubyte(0)"
      ]
     },
     "execution_count": 69,
     "metadata": {},
     "output_type": "execute_result"
    }
   ],
   "source": [
    "c_uint8(0)"
   ]
  },
  {
   "cell_type": "code",
   "execution_count": null,
   "metadata": {},
   "outputs": [],
   "source": []
  }
 ],
 "metadata": {
  "kernelspec": {
   "display_name": "Python 3",
   "language": "python",
   "name": "python3"
  },
  "language_info": {
   "codemirror_mode": {
    "name": "ipython",
    "version": 3
   },
   "file_extension": ".py",
   "mimetype": "text/x-python",
   "name": "python",
   "nbconvert_exporter": "python",
   "pygments_lexer": "ipython3",
   "version": "3.7.6"
  }
 },
 "nbformat": 4,
 "nbformat_minor": 2
}
